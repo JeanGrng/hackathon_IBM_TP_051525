{
 "cells": [
  {
   "cell_type": "code",
   "execution_count": 1,
   "id": "61c7932a",
   "metadata": {},
   "outputs": [],
   "source": [
    "import pandas as pd\n",
    "import numpy as np"
   ]
  },
  {
   "cell_type": "code",
   "execution_count": 6,
   "id": "060366cb",
   "metadata": {},
   "outputs": [],
   "source": [
    "X_train = pd.read_pickle('data/X_train.pkl').values"
   ]
  },
  {
   "cell_type": "code",
   "execution_count": 7,
   "id": "9c0525cd",
   "metadata": {},
   "outputs": [
    {
     "data": {
      "text/plain": [
       "array([['2017-07-07 09:53:00', 1581, 2519, ..., '04/2006', 2015, 'No'],\n",
       "       ['2018-11-26 17:44:00', 1862, 4049, ..., '07/2016', 2016, 'No'],\n",
       "       ['2016-03-26 12:42:00', 1967, 3367, ..., '06/2007', 2011, 'No'],\n",
       "       ...,\n",
       "       ['2017-06-10 01:23:00', 986, 2139, ..., '03/2007', 2013, 'No'],\n",
       "       ['2016-01-14 12:08:00', 1473, 3839, ..., '07/2008', 2008, 'No'],\n",
       "       ['2016-06-02 08:22:00', 1756, 4259, ..., '08/2008', 2012, 'No']],\n",
       "      dtype=object)"
      ]
     },
     "execution_count": 7,
     "metadata": {},
     "output_type": "execute_result"
    }
   ],
   "source": [
    "X_train "
   ]
  }
 ],
 "metadata": {
  "kernelspec": {
   "display_name": "jean",
   "language": "python",
   "name": "python3"
  },
  "language_info": {
   "codemirror_mode": {
    "name": "ipython",
    "version": 3
   },
   "file_extension": ".py",
   "mimetype": "text/x-python",
   "name": "python",
   "nbconvert_exporter": "python",
   "pygments_lexer": "ipython3",
   "version": "3.12.2"
  }
 },
 "nbformat": 4,
 "nbformat_minor": 5
}
